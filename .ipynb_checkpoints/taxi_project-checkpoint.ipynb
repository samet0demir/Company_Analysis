{
 "cells": [
  {
   "cell_type": "code",
   "execution_count": 1,
   "id": "56e49d53-6b70-4811-b1d8-b433b8bfd8a2",
   "metadata": {},
   "outputs": [
    {
     "data": {
      "text/html": [
       "<div>\n",
       "<style scoped>\n",
       "    .dataframe tbody tr th:only-of-type {\n",
       "        vertical-align: middle;\n",
       "    }\n",
       "\n",
       "    .dataframe tbody tr th {\n",
       "        vertical-align: top;\n",
       "    }\n",
       "\n",
       "    .dataframe thead th {\n",
       "        text-align: right;\n",
       "    }\n",
       "</style>\n",
       "<table border=\"1\" class=\"dataframe\">\n",
       "  <thead>\n",
       "    <tr style=\"text-align: right;\">\n",
       "      <th></th>\n",
       "      <th>Transaction ID</th>\n",
       "      <th>Date of Travel</th>\n",
       "      <th>Company</th>\n",
       "      <th>City</th>\n",
       "      <th>KM Travelled</th>\n",
       "      <th>Price Charged</th>\n",
       "      <th>Cost of Trip</th>\n",
       "    </tr>\n",
       "  </thead>\n",
       "  <tbody>\n",
       "    <tr>\n",
       "      <th>0</th>\n",
       "      <td>10000011</td>\n",
       "      <td>42377</td>\n",
       "      <td>Pink Cab</td>\n",
       "      <td>ATLANTA GA</td>\n",
       "      <td>30.45</td>\n",
       "      <td>370.95</td>\n",
       "      <td>313.635</td>\n",
       "    </tr>\n",
       "    <tr>\n",
       "      <th>1</th>\n",
       "      <td>10000012</td>\n",
       "      <td>42375</td>\n",
       "      <td>Pink Cab</td>\n",
       "      <td>ATLANTA GA</td>\n",
       "      <td>28.62</td>\n",
       "      <td>358.52</td>\n",
       "      <td>334.854</td>\n",
       "    </tr>\n",
       "    <tr>\n",
       "      <th>2</th>\n",
       "      <td>10000013</td>\n",
       "      <td>42371</td>\n",
       "      <td>Pink Cab</td>\n",
       "      <td>ATLANTA GA</td>\n",
       "      <td>9.04</td>\n",
       "      <td>125.20</td>\n",
       "      <td>97.632</td>\n",
       "    </tr>\n",
       "    <tr>\n",
       "      <th>3</th>\n",
       "      <td>10000014</td>\n",
       "      <td>42376</td>\n",
       "      <td>Pink Cab</td>\n",
       "      <td>ATLANTA GA</td>\n",
       "      <td>33.17</td>\n",
       "      <td>377.40</td>\n",
       "      <td>351.602</td>\n",
       "    </tr>\n",
       "    <tr>\n",
       "      <th>4</th>\n",
       "      <td>10000015</td>\n",
       "      <td>42372</td>\n",
       "      <td>Pink Cab</td>\n",
       "      <td>ATLANTA GA</td>\n",
       "      <td>8.73</td>\n",
       "      <td>114.62</td>\n",
       "      <td>97.776</td>\n",
       "    </tr>\n",
       "  </tbody>\n",
       "</table>\n",
       "</div>"
      ],
      "text/plain": [
       "   Transaction ID  Date of Travel   Company        City  KM Travelled  \\\n",
       "0        10000011           42377  Pink Cab  ATLANTA GA         30.45   \n",
       "1        10000012           42375  Pink Cab  ATLANTA GA         28.62   \n",
       "2        10000013           42371  Pink Cab  ATLANTA GA          9.04   \n",
       "3        10000014           42376  Pink Cab  ATLANTA GA         33.17   \n",
       "4        10000015           42372  Pink Cab  ATLANTA GA          8.73   \n",
       "\n",
       "   Price Charged  Cost of Trip  \n",
       "0         370.95       313.635  \n",
       "1         358.52       334.854  \n",
       "2         125.20        97.632  \n",
       "3         377.40       351.602  \n",
       "4         114.62        97.776  "
      ]
     },
     "execution_count": 1,
     "metadata": {},
     "output_type": "execute_result"
    }
   ],
   "source": [
    "    import pandas as pd\n",
    "import numpy as np\n",
    "cab_data = pd.read_csv(\"Cab_Data.csv\")\n",
    "city_data = pd.read_csv(\"City.csv\")\n",
    "customer_data = pd.read_csv(\"Customer_ID.csv\")\n",
    "transaction_data =pd.read_csv(\"Transaction_ID.csv\")\n",
    "\n",
    "cab_data.head()"
   ]
  },
  {
   "cell_type": "code",
   "execution_count": 2,
   "id": "17d37676-e12a-446f-abef-8f2e370e316c",
   "metadata": {},
   "outputs": [
    {
     "name": "stdout",
     "output_type": "stream",
     "text": [
      "<class 'pandas.core.frame.DataFrame'>\n",
      "RangeIndex: 359392 entries, 0 to 359391\n",
      "Data columns (total 7 columns):\n",
      " #   Column          Non-Null Count   Dtype  \n",
      "---  ------          --------------   -----  \n",
      " 0   Transaction ID  359392 non-null  int64  \n",
      " 1   Date of Travel  359392 non-null  int64  \n",
      " 2   Company         359392 non-null  object \n",
      " 3   City            359392 non-null  object \n",
      " 4   KM Travelled    359392 non-null  float64\n",
      " 5   Price Charged   359392 non-null  float64\n",
      " 6   Cost of Trip    359392 non-null  float64\n",
      "dtypes: float64(3), int64(2), object(2)\n",
      "memory usage: 19.2+ MB\n"
     ]
    }
   ],
   "source": [
    "cab_data.info()"
   ]
  },
  {
   "cell_type": "code",
   "execution_count": 3,
   "id": "71cd3335-d92a-4eee-9442-80656aac732b",
   "metadata": {},
   "outputs": [
    {
     "data": {
      "text/html": [
       "<div>\n",
       "<style scoped>\n",
       "    .dataframe tbody tr th:only-of-type {\n",
       "        vertical-align: middle;\n",
       "    }\n",
       "\n",
       "    .dataframe tbody tr th {\n",
       "        vertical-align: top;\n",
       "    }\n",
       "\n",
       "    .dataframe thead th {\n",
       "        text-align: right;\n",
       "    }\n",
       "</style>\n",
       "<table border=\"1\" class=\"dataframe\">\n",
       "  <thead>\n",
       "    <tr style=\"text-align: right;\">\n",
       "      <th></th>\n",
       "      <th>count</th>\n",
       "      <th>mean</th>\n",
       "      <th>std</th>\n",
       "      <th>min</th>\n",
       "      <th>25%</th>\n",
       "      <th>50%</th>\n",
       "      <th>75%</th>\n",
       "      <th>max</th>\n",
       "    </tr>\n",
       "  </thead>\n",
       "  <tbody>\n",
       "    <tr>\n",
       "      <th>Transaction ID</th>\n",
       "      <td>359392.0</td>\n",
       "      <td>1.022076e+07</td>\n",
       "      <td>126805.803715</td>\n",
       "      <td>10000011.0</td>\n",
       "      <td>1.011081e+07</td>\n",
       "      <td>10221035.50</td>\n",
       "      <td>1.033094e+07</td>\n",
       "      <td>10440107.00</td>\n",
       "    </tr>\n",
       "    <tr>\n",
       "      <th>Date of Travel</th>\n",
       "      <td>359392.0</td>\n",
       "      <td>4.296407e+04</td>\n",
       "      <td>307.467197</td>\n",
       "      <td>42371.0</td>\n",
       "      <td>4.269700e+04</td>\n",
       "      <td>42988.00</td>\n",
       "      <td>4.323200e+04</td>\n",
       "      <td>43465.00</td>\n",
       "    </tr>\n",
       "    <tr>\n",
       "      <th>KM Travelled</th>\n",
       "      <td>359392.0</td>\n",
       "      <td>2.256725e+01</td>\n",
       "      <td>12.233526</td>\n",
       "      <td>1.9</td>\n",
       "      <td>1.200000e+01</td>\n",
       "      <td>22.44</td>\n",
       "      <td>3.296000e+01</td>\n",
       "      <td>48.00</td>\n",
       "    </tr>\n",
       "    <tr>\n",
       "      <th>Price Charged</th>\n",
       "      <td>359392.0</td>\n",
       "      <td>4.234433e+02</td>\n",
       "      <td>274.378911</td>\n",
       "      <td>15.6</td>\n",
       "      <td>2.064375e+02</td>\n",
       "      <td>386.36</td>\n",
       "      <td>5.836600e+02</td>\n",
       "      <td>2048.03</td>\n",
       "    </tr>\n",
       "    <tr>\n",
       "      <th>Cost of Trip</th>\n",
       "      <td>359392.0</td>\n",
       "      <td>2.861901e+02</td>\n",
       "      <td>157.993661</td>\n",
       "      <td>19.0</td>\n",
       "      <td>1.512000e+02</td>\n",
       "      <td>282.48</td>\n",
       "      <td>4.136832e+02</td>\n",
       "      <td>691.20</td>\n",
       "    </tr>\n",
       "  </tbody>\n",
       "</table>\n",
       "</div>"
      ],
      "text/plain": [
       "                   count          mean            std         min  \\\n",
       "Transaction ID  359392.0  1.022076e+07  126805.803715  10000011.0   \n",
       "Date of Travel  359392.0  4.296407e+04     307.467197     42371.0   \n",
       "KM Travelled    359392.0  2.256725e+01      12.233526         1.9   \n",
       "Price Charged   359392.0  4.234433e+02     274.378911        15.6   \n",
       "Cost of Trip    359392.0  2.861901e+02     157.993661        19.0   \n",
       "\n",
       "                         25%          50%           75%          max  \n",
       "Transaction ID  1.011081e+07  10221035.50  1.033094e+07  10440107.00  \n",
       "Date of Travel  4.269700e+04     42988.00  4.323200e+04     43465.00  \n",
       "KM Travelled    1.200000e+01        22.44  3.296000e+01        48.00  \n",
       "Price Charged   2.064375e+02       386.36  5.836600e+02      2048.03  \n",
       "Cost of Trip    1.512000e+02       282.48  4.136832e+02       691.20  "
      ]
     },
     "execution_count": 3,
     "metadata": {},
     "output_type": "execute_result"
    }
   ],
   "source": [
    "cab_data.describe().T"
   ]
  },
  {
   "cell_type": "code",
   "execution_count": 4,
   "id": "d654e627-9b4e-4303-8bd1-fb59cc8f3f63",
   "metadata": {},
   "outputs": [
    {
     "data": {
      "text/html": [
       "<div>\n",
       "<style scoped>\n",
       "    .dataframe tbody tr th:only-of-type {\n",
       "        vertical-align: middle;\n",
       "    }\n",
       "\n",
       "    .dataframe tbody tr th {\n",
       "        vertical-align: top;\n",
       "    }\n",
       "\n",
       "    .dataframe thead th {\n",
       "        text-align: right;\n",
       "    }\n",
       "</style>\n",
       "<table border=\"1\" class=\"dataframe\">\n",
       "  <thead>\n",
       "    <tr style=\"text-align: right;\">\n",
       "      <th></th>\n",
       "      <th>City</th>\n",
       "      <th>Population</th>\n",
       "      <th>Users</th>\n",
       "    </tr>\n",
       "  </thead>\n",
       "  <tbody>\n",
       "    <tr>\n",
       "      <th>0</th>\n",
       "      <td>NEW YORK NY</td>\n",
       "      <td>8,405,837</td>\n",
       "      <td>302,149</td>\n",
       "    </tr>\n",
       "    <tr>\n",
       "      <th>1</th>\n",
       "      <td>CHICAGO IL</td>\n",
       "      <td>1,955,130</td>\n",
       "      <td>164,468</td>\n",
       "    </tr>\n",
       "    <tr>\n",
       "      <th>2</th>\n",
       "      <td>LOS ANGELES CA</td>\n",
       "      <td>1,595,037</td>\n",
       "      <td>144,132</td>\n",
       "    </tr>\n",
       "    <tr>\n",
       "      <th>3</th>\n",
       "      <td>MIAMI FL</td>\n",
       "      <td>1,339,155</td>\n",
       "      <td>17,675</td>\n",
       "    </tr>\n",
       "    <tr>\n",
       "      <th>4</th>\n",
       "      <td>SILICON VALLEY</td>\n",
       "      <td>1,177,609</td>\n",
       "      <td>27,247</td>\n",
       "    </tr>\n",
       "  </tbody>\n",
       "</table>\n",
       "</div>"
      ],
      "text/plain": [
       "             City   Population      Users\n",
       "0     NEW YORK NY   8,405,837    302,149 \n",
       "1      CHICAGO IL   1,955,130    164,468 \n",
       "2  LOS ANGELES CA   1,595,037    144,132 \n",
       "3        MIAMI FL   1,339,155     17,675 \n",
       "4  SILICON VALLEY   1,177,609     27,247 "
      ]
     },
     "execution_count": 4,
     "metadata": {},
     "output_type": "execute_result"
    }
   ],
   "source": [
    "city_data.head()"
   ]
  },
  {
   "cell_type": "code",
   "execution_count": 5,
   "id": "6ad024fc-98fd-4613-b8fe-00a9f4bae994",
   "metadata": {},
   "outputs": [
    {
     "name": "stdout",
     "output_type": "stream",
     "text": [
      "<class 'pandas.core.frame.DataFrame'>\n",
      "RangeIndex: 20 entries, 0 to 19\n",
      "Data columns (total 3 columns):\n",
      " #   Column      Non-Null Count  Dtype \n",
      "---  ------      --------------  ----- \n",
      " 0   City        20 non-null     object\n",
      " 1   Population  20 non-null     object\n",
      " 2   Users       20 non-null     object\n",
      "dtypes: object(3)\n",
      "memory usage: 608.0+ bytes\n"
     ]
    }
   ],
   "source": [
    "city_data.info()"
   ]
  },
  {
   "cell_type": "code",
   "execution_count": 6,
   "id": "232c64d6-6a94-4f9a-a3d7-71adedaee2f3",
   "metadata": {},
   "outputs": [
    {
     "data": {
      "text/html": [
       "<div>\n",
       "<style scoped>\n",
       "    .dataframe tbody tr th:only-of-type {\n",
       "        vertical-align: middle;\n",
       "    }\n",
       "\n",
       "    .dataframe tbody tr th {\n",
       "        vertical-align: top;\n",
       "    }\n",
       "\n",
       "    .dataframe thead th {\n",
       "        text-align: right;\n",
       "    }\n",
       "</style>\n",
       "<table border=\"1\" class=\"dataframe\">\n",
       "  <thead>\n",
       "    <tr style=\"text-align: right;\">\n",
       "      <th></th>\n",
       "      <th>count</th>\n",
       "      <th>unique</th>\n",
       "      <th>top</th>\n",
       "      <th>freq</th>\n",
       "    </tr>\n",
       "  </thead>\n",
       "  <tbody>\n",
       "    <tr>\n",
       "      <th>City</th>\n",
       "      <td>20</td>\n",
       "      <td>20</td>\n",
       "      <td>NEW YORK NY</td>\n",
       "      <td>1</td>\n",
       "    </tr>\n",
       "    <tr>\n",
       "      <th>Population</th>\n",
       "      <td>20</td>\n",
       "      <td>20</td>\n",
       "      <td>8,405,837</td>\n",
       "      <td>1</td>\n",
       "    </tr>\n",
       "    <tr>\n",
       "      <th>Users</th>\n",
       "      <td>20</td>\n",
       "      <td>20</td>\n",
       "      <td>302,149</td>\n",
       "      <td>1</td>\n",
       "    </tr>\n",
       "  </tbody>\n",
       "</table>\n",
       "</div>"
      ],
      "text/plain": [
       "           count unique          top freq\n",
       "City          20     20  NEW YORK NY    1\n",
       "Population    20     20   8,405,837     1\n",
       "Users         20     20     302,149     1"
      ]
     },
     "execution_count": 6,
     "metadata": {},
     "output_type": "execute_result"
    }
   ],
   "source": [
    "city_data.describe().T"
   ]
  },
  {
   "cell_type": "code",
   "execution_count": 7,
   "id": "012977ad-fe5c-46f8-8ebf-2dde00f838ee",
   "metadata": {},
   "outputs": [
    {
     "data": {
      "text/html": [
       "<div>\n",
       "<style scoped>\n",
       "    .dataframe tbody tr th:only-of-type {\n",
       "        vertical-align: middle;\n",
       "    }\n",
       "\n",
       "    .dataframe tbody tr th {\n",
       "        vertical-align: top;\n",
       "    }\n",
       "\n",
       "    .dataframe thead th {\n",
       "        text-align: right;\n",
       "    }\n",
       "</style>\n",
       "<table border=\"1\" class=\"dataframe\">\n",
       "  <thead>\n",
       "    <tr style=\"text-align: right;\">\n",
       "      <th></th>\n",
       "      <th>Customer ID</th>\n",
       "      <th>Gender</th>\n",
       "      <th>Age</th>\n",
       "      <th>Income (USD/Month)</th>\n",
       "    </tr>\n",
       "  </thead>\n",
       "  <tbody>\n",
       "    <tr>\n",
       "      <th>0</th>\n",
       "      <td>29290</td>\n",
       "      <td>Male</td>\n",
       "      <td>28</td>\n",
       "      <td>10813</td>\n",
       "    </tr>\n",
       "    <tr>\n",
       "      <th>1</th>\n",
       "      <td>27703</td>\n",
       "      <td>Male</td>\n",
       "      <td>27</td>\n",
       "      <td>9237</td>\n",
       "    </tr>\n",
       "    <tr>\n",
       "      <th>2</th>\n",
       "      <td>28712</td>\n",
       "      <td>Male</td>\n",
       "      <td>53</td>\n",
       "      <td>11242</td>\n",
       "    </tr>\n",
       "    <tr>\n",
       "      <th>3</th>\n",
       "      <td>28020</td>\n",
       "      <td>Male</td>\n",
       "      <td>23</td>\n",
       "      <td>23327</td>\n",
       "    </tr>\n",
       "    <tr>\n",
       "      <th>4</th>\n",
       "      <td>27182</td>\n",
       "      <td>Male</td>\n",
       "      <td>33</td>\n",
       "      <td>8536</td>\n",
       "    </tr>\n",
       "  </tbody>\n",
       "</table>\n",
       "</div>"
      ],
      "text/plain": [
       "   Customer ID Gender  Age  Income (USD/Month)\n",
       "0        29290   Male   28               10813\n",
       "1        27703   Male   27                9237\n",
       "2        28712   Male   53               11242\n",
       "3        28020   Male   23               23327\n",
       "4        27182   Male   33                8536"
      ]
     },
     "execution_count": 7,
     "metadata": {},
     "output_type": "execute_result"
    }
   ],
   "source": [
    "customer_data.head()"
   ]
  },
  {
   "cell_type": "code",
   "execution_count": 8,
   "id": "94199ebb-1344-4ee8-8970-33d6b5c25c76",
   "metadata": {},
   "outputs": [
    {
     "name": "stdout",
     "output_type": "stream",
     "text": [
      "<class 'pandas.core.frame.DataFrame'>\n",
      "RangeIndex: 49171 entries, 0 to 49170\n",
      "Data columns (total 4 columns):\n",
      " #   Column              Non-Null Count  Dtype \n",
      "---  ------              --------------  ----- \n",
      " 0   Customer ID         49171 non-null  int64 \n",
      " 1   Gender              49171 non-null  object\n",
      " 2   Age                 49171 non-null  int64 \n",
      " 3   Income (USD/Month)  49171 non-null  int64 \n",
      "dtypes: int64(3), object(1)\n",
      "memory usage: 1.5+ MB\n"
     ]
    }
   ],
   "source": [
    "customer_data.info()"
   ]
  },
  {
   "cell_type": "code",
   "execution_count": 9,
   "id": "4ef12e96-40ec-4b93-ac74-363a45bd503e",
   "metadata": {},
   "outputs": [
    {
     "data": {
      "text/html": [
       "<div>\n",
       "<style scoped>\n",
       "    .dataframe tbody tr th:only-of-type {\n",
       "        vertical-align: middle;\n",
       "    }\n",
       "\n",
       "    .dataframe tbody tr th {\n",
       "        vertical-align: top;\n",
       "    }\n",
       "\n",
       "    .dataframe thead th {\n",
       "        text-align: right;\n",
       "    }\n",
       "</style>\n",
       "<table border=\"1\" class=\"dataframe\">\n",
       "  <thead>\n",
       "    <tr style=\"text-align: right;\">\n",
       "      <th></th>\n",
       "      <th>count</th>\n",
       "      <th>mean</th>\n",
       "      <th>std</th>\n",
       "      <th>min</th>\n",
       "      <th>25%</th>\n",
       "      <th>50%</th>\n",
       "      <th>75%</th>\n",
       "      <th>max</th>\n",
       "    </tr>\n",
       "  </thead>\n",
       "  <tbody>\n",
       "    <tr>\n",
       "      <th>Customer ID</th>\n",
       "      <td>49171.0</td>\n",
       "      <td>28398.252283</td>\n",
       "      <td>17714.137333</td>\n",
       "      <td>1.0</td>\n",
       "      <td>12654.5</td>\n",
       "      <td>27631.0</td>\n",
       "      <td>43284.5</td>\n",
       "      <td>60000.0</td>\n",
       "    </tr>\n",
       "    <tr>\n",
       "      <th>Age</th>\n",
       "      <td>49171.0</td>\n",
       "      <td>35.363121</td>\n",
       "      <td>12.599066</td>\n",
       "      <td>18.0</td>\n",
       "      <td>25.0</td>\n",
       "      <td>33.0</td>\n",
       "      <td>42.0</td>\n",
       "      <td>65.0</td>\n",
       "    </tr>\n",
       "    <tr>\n",
       "      <th>Income (USD/Month)</th>\n",
       "      <td>49171.0</td>\n",
       "      <td>15015.631856</td>\n",
       "      <td>8002.208253</td>\n",
       "      <td>2000.0</td>\n",
       "      <td>8289.5</td>\n",
       "      <td>14656.0</td>\n",
       "      <td>21035.0</td>\n",
       "      <td>35000.0</td>\n",
       "    </tr>\n",
       "  </tbody>\n",
       "</table>\n",
       "</div>"
      ],
      "text/plain": [
       "                      count          mean           std     min      25%  \\\n",
       "Customer ID         49171.0  28398.252283  17714.137333     1.0  12654.5   \n",
       "Age                 49171.0     35.363121     12.599066    18.0     25.0   \n",
       "Income (USD/Month)  49171.0  15015.631856   8002.208253  2000.0   8289.5   \n",
       "\n",
       "                        50%      75%      max  \n",
       "Customer ID         27631.0  43284.5  60000.0  \n",
       "Age                    33.0     42.0     65.0  \n",
       "Income (USD/Month)  14656.0  21035.0  35000.0  "
      ]
     },
     "execution_count": 9,
     "metadata": {},
     "output_type": "execute_result"
    }
   ],
   "source": [
    "customer_data.describe().T"
   ]
  },
  {
   "cell_type": "code",
   "execution_count": 10,
   "id": "1e505a16-1a0c-4d30-9ebb-d6f0e7481445",
   "metadata": {},
   "outputs": [
    {
     "data": {
      "text/html": [
       "<div>\n",
       "<style scoped>\n",
       "    .dataframe tbody tr th:only-of-type {\n",
       "        vertical-align: middle;\n",
       "    }\n",
       "\n",
       "    .dataframe tbody tr th {\n",
       "        vertical-align: top;\n",
       "    }\n",
       "\n",
       "    .dataframe thead th {\n",
       "        text-align: right;\n",
       "    }\n",
       "</style>\n",
       "<table border=\"1\" class=\"dataframe\">\n",
       "  <thead>\n",
       "    <tr style=\"text-align: right;\">\n",
       "      <th></th>\n",
       "      <th>Transaction ID</th>\n",
       "      <th>Customer ID</th>\n",
       "      <th>Payment_Mode</th>\n",
       "    </tr>\n",
       "  </thead>\n",
       "  <tbody>\n",
       "    <tr>\n",
       "      <th>0</th>\n",
       "      <td>10000011</td>\n",
       "      <td>29290</td>\n",
       "      <td>Card</td>\n",
       "    </tr>\n",
       "    <tr>\n",
       "      <th>1</th>\n",
       "      <td>10000012</td>\n",
       "      <td>27703</td>\n",
       "      <td>Card</td>\n",
       "    </tr>\n",
       "    <tr>\n",
       "      <th>2</th>\n",
       "      <td>10000013</td>\n",
       "      <td>28712</td>\n",
       "      <td>Cash</td>\n",
       "    </tr>\n",
       "    <tr>\n",
       "      <th>3</th>\n",
       "      <td>10000014</td>\n",
       "      <td>28020</td>\n",
       "      <td>Cash</td>\n",
       "    </tr>\n",
       "    <tr>\n",
       "      <th>4</th>\n",
       "      <td>10000015</td>\n",
       "      <td>27182</td>\n",
       "      <td>Card</td>\n",
       "    </tr>\n",
       "  </tbody>\n",
       "</table>\n",
       "</div>"
      ],
      "text/plain": [
       "   Transaction ID  Customer ID Payment_Mode\n",
       "0        10000011        29290         Card\n",
       "1        10000012        27703         Card\n",
       "2        10000013        28712         Cash\n",
       "3        10000014        28020         Cash\n",
       "4        10000015        27182         Card"
      ]
     },
     "execution_count": 10,
     "metadata": {},
     "output_type": "execute_result"
    }
   ],
   "source": [
    "transaction_data.head()"
   ]
  },
  {
   "cell_type": "code",
   "execution_count": 11,
   "id": "e74b6e99-c552-4a2c-a314-8cc3d48cd8e0",
   "metadata": {},
   "outputs": [
    {
     "name": "stdout",
     "output_type": "stream",
     "text": [
      "<class 'pandas.core.frame.DataFrame'>\n",
      "RangeIndex: 440098 entries, 0 to 440097\n",
      "Data columns (total 3 columns):\n",
      " #   Column          Non-Null Count   Dtype \n",
      "---  ------          --------------   ----- \n",
      " 0   Transaction ID  440098 non-null  int64 \n",
      " 1   Customer ID     440098 non-null  int64 \n",
      " 2   Payment_Mode    440098 non-null  object\n",
      "dtypes: int64(2), object(1)\n",
      "memory usage: 10.1+ MB\n"
     ]
    }
   ],
   "source": [
    "transaction_data.info()"
   ]
  },
  {
   "cell_type": "code",
   "execution_count": 12,
   "id": "5d5656c8-2b9b-41a4-bb92-3c30bf71c188",
   "metadata": {},
   "outputs": [
    {
     "data": {
      "text/plain": [
       "Transaction ID    0\n",
       "Date of Travel    0\n",
       "Company           0\n",
       "City              0\n",
       "KM Travelled      0\n",
       "Price Charged     0\n",
       "Cost of Trip      0\n",
       "dtype: int64"
      ]
     },
     "execution_count": 12,
     "metadata": {},
     "output_type": "execute_result"
    }
   ],
   "source": [
    "cab_data.isnull().sum()"
   ]
  },
  {
   "cell_type": "code",
   "execution_count": 13,
   "id": "b528e1f3-11dc-4c1d-873e-b4750328cb99",
   "metadata": {},
   "outputs": [
    {
     "data": {
      "text/plain": [
       "City          0\n",
       "Population    0\n",
       "Users         0\n",
       "dtype: int64"
      ]
     },
     "execution_count": 13,
     "metadata": {},
     "output_type": "execute_result"
    }
   ],
   "source": [
    "city_data.isnull().sum()"
   ]
  },
  {
   "cell_type": "code",
   "execution_count": 14,
   "id": "3b9983f6-90f8-4f15-9b40-c3d45806cfb6",
   "metadata": {},
   "outputs": [
    {
     "data": {
      "text/plain": [
       "Transaction ID    0\n",
       "Customer ID       0\n",
       "Payment_Mode      0\n",
       "dtype: int64"
      ]
     },
     "execution_count": 14,
     "metadata": {},
     "output_type": "execute_result"
    }
   ],
   "source": [
    "transaction_data.isnull().sum()"
   ]
  },
  {
   "cell_type": "code",
   "execution_count": 15,
   "id": "8b2ca5de-36a4-4e28-ada8-44d155daeb7a",
   "metadata": {},
   "outputs": [
    {
     "data": {
      "text/plain": [
       "Customer ID           0\n",
       "Gender                0\n",
       "Age                   0\n",
       "Income (USD/Month)    0\n",
       "dtype: int64"
      ]
     },
     "execution_count": 15,
     "metadata": {},
     "output_type": "execute_result"
    }
   ],
   "source": [
    "customer_data.isnull().sum()"
   ]
  },
  {
   "cell_type": "code",
   "execution_count": 16,
   "id": "27590321-0dff-476d-bd5a-2931576e7c4b",
   "metadata": {},
   "outputs": [
    {
     "data": {
      "text/plain": [
       "0"
      ]
     },
     "execution_count": 16,
     "metadata": {},
     "output_type": "execute_result"
    }
   ],
   "source": [
    "cab_data.duplicated().sum()"
   ]
  },
  {
   "cell_type": "code",
   "execution_count": 17,
   "id": "e5a2e576-ea3a-4a04-b077-b2c3682e2c76",
   "metadata": {},
   "outputs": [
    {
     "data": {
      "text/plain": [
       "0"
      ]
     },
     "execution_count": 17,
     "metadata": {},
     "output_type": "execute_result"
    }
   ],
   "source": [
    "city_data.duplicated().sum()"
   ]
  },
  {
   "cell_type": "code",
   "execution_count": 18,
   "id": "a11a31e0-6f34-4929-a4af-389da3eceb46",
   "metadata": {},
   "outputs": [
    {
     "data": {
      "text/plain": [
       "0"
      ]
     },
     "execution_count": 18,
     "metadata": {},
     "output_type": "execute_result"
    }
   ],
   "source": [
    "transaction_data.duplicated().sum()"
   ]
  },
  {
   "cell_type": "code",
   "execution_count": 19,
   "id": "6f2554c7-4aaf-4572-861d-3d73be65af29",
   "metadata": {},
   "outputs": [
    {
     "data": {
      "text/plain": [
       "0"
      ]
     },
     "execution_count": 19,
     "metadata": {},
     "output_type": "execute_result"
    }
   ],
   "source": [
    "customer_data.duplicated().sum()"
   ]
  },
  {
   "cell_type": "code",
   "execution_count": 20,
   "id": "f9cec0c7-3341-463c-a9d9-21b8fae84e05",
   "metadata": {},
   "outputs": [],
   "source": [
    "cab_data[\"Date of Travel\"]=pd.to_datetime(cab_data[\"Date of Travel\"])"
   ]
  },
  {
   "cell_type": "code",
   "execution_count": 21,
   "id": "4a7b9192-363e-410d-b5d8-45fcd7003700",
   "metadata": {},
   "outputs": [],
   "source": [
    "cab_transaction=cab_data.merge(transaction_data, on=\"Transaction ID\")"
   ]
  },
  {
   "cell_type": "code",
   "execution_count": 22,
   "id": "f6e55cbb-fe38-420f-8596-2e3afdb7a02c",
   "metadata": {},
   "outputs": [
    {
     "data": {
      "text/html": [
       "<div>\n",
       "<style scoped>\n",
       "    .dataframe tbody tr th:only-of-type {\n",
       "        vertical-align: middle;\n",
       "    }\n",
       "\n",
       "    .dataframe tbody tr th {\n",
       "        vertical-align: top;\n",
       "    }\n",
       "\n",
       "    .dataframe thead th {\n",
       "        text-align: right;\n",
       "    }\n",
       "</style>\n",
       "<table border=\"1\" class=\"dataframe\">\n",
       "  <thead>\n",
       "    <tr style=\"text-align: right;\">\n",
       "      <th></th>\n",
       "      <th>Transaction ID</th>\n",
       "      <th>Date of Travel</th>\n",
       "      <th>Company</th>\n",
       "      <th>City</th>\n",
       "      <th>KM Travelled</th>\n",
       "      <th>Price Charged</th>\n",
       "      <th>Cost of Trip</th>\n",
       "      <th>Customer ID</th>\n",
       "      <th>Payment_Mode</th>\n",
       "      <th>Gender</th>\n",
       "      <th>Age</th>\n",
       "      <th>Income (USD/Month)</th>\n",
       "    </tr>\n",
       "  </thead>\n",
       "  <tbody>\n",
       "    <tr>\n",
       "      <th>0</th>\n",
       "      <td>10000011</td>\n",
       "      <td>1970-01-01 00:00:00.000042377</td>\n",
       "      <td>Pink Cab</td>\n",
       "      <td>ATLANTA GA</td>\n",
       "      <td>30.45</td>\n",
       "      <td>370.95</td>\n",
       "      <td>313.6350</td>\n",
       "      <td>29290</td>\n",
       "      <td>Card</td>\n",
       "      <td>Male</td>\n",
       "      <td>28</td>\n",
       "      <td>10813</td>\n",
       "    </tr>\n",
       "    <tr>\n",
       "      <th>1</th>\n",
       "      <td>10351127</td>\n",
       "      <td>1970-01-01 00:00:00.000043302</td>\n",
       "      <td>Yellow Cab</td>\n",
       "      <td>ATLANTA GA</td>\n",
       "      <td>26.19</td>\n",
       "      <td>598.70</td>\n",
       "      <td>317.4228</td>\n",
       "      <td>29290</td>\n",
       "      <td>Cash</td>\n",
       "      <td>Male</td>\n",
       "      <td>28</td>\n",
       "      <td>10813</td>\n",
       "    </tr>\n",
       "    <tr>\n",
       "      <th>2</th>\n",
       "      <td>10412921</td>\n",
       "      <td>1970-01-01 00:00:00.000043427</td>\n",
       "      <td>Yellow Cab</td>\n",
       "      <td>ATLANTA GA</td>\n",
       "      <td>42.55</td>\n",
       "      <td>792.05</td>\n",
       "      <td>597.4020</td>\n",
       "      <td>29290</td>\n",
       "      <td>Card</td>\n",
       "      <td>Male</td>\n",
       "      <td>28</td>\n",
       "      <td>10813</td>\n",
       "    </tr>\n",
       "    <tr>\n",
       "      <th>3</th>\n",
       "      <td>10000012</td>\n",
       "      <td>1970-01-01 00:00:00.000042375</td>\n",
       "      <td>Pink Cab</td>\n",
       "      <td>ATLANTA GA</td>\n",
       "      <td>28.62</td>\n",
       "      <td>358.52</td>\n",
       "      <td>334.8540</td>\n",
       "      <td>27703</td>\n",
       "      <td>Card</td>\n",
       "      <td>Male</td>\n",
       "      <td>27</td>\n",
       "      <td>9237</td>\n",
       "    </tr>\n",
       "    <tr>\n",
       "      <th>4</th>\n",
       "      <td>10320494</td>\n",
       "      <td>1970-01-01 00:00:00.000043211</td>\n",
       "      <td>Yellow Cab</td>\n",
       "      <td>ATLANTA GA</td>\n",
       "      <td>36.38</td>\n",
       "      <td>721.10</td>\n",
       "      <td>467.1192</td>\n",
       "      <td>27703</td>\n",
       "      <td>Card</td>\n",
       "      <td>Male</td>\n",
       "      <td>27</td>\n",
       "      <td>9237</td>\n",
       "    </tr>\n",
       "  </tbody>\n",
       "</table>\n",
       "</div>"
      ],
      "text/plain": [
       "   Transaction ID                Date of Travel     Company        City  \\\n",
       "0        10000011 1970-01-01 00:00:00.000042377    Pink Cab  ATLANTA GA   \n",
       "1        10351127 1970-01-01 00:00:00.000043302  Yellow Cab  ATLANTA GA   \n",
       "2        10412921 1970-01-01 00:00:00.000043427  Yellow Cab  ATLANTA GA   \n",
       "3        10000012 1970-01-01 00:00:00.000042375    Pink Cab  ATLANTA GA   \n",
       "4        10320494 1970-01-01 00:00:00.000043211  Yellow Cab  ATLANTA GA   \n",
       "\n",
       "   KM Travelled  Price Charged  Cost of Trip  Customer ID Payment_Mode Gender  \\\n",
       "0         30.45         370.95      313.6350        29290         Card   Male   \n",
       "1         26.19         598.70      317.4228        29290         Cash   Male   \n",
       "2         42.55         792.05      597.4020        29290         Card   Male   \n",
       "3         28.62         358.52      334.8540        27703         Card   Male   \n",
       "4         36.38         721.10      467.1192        27703         Card   Male   \n",
       "\n",
       "   Age  Income (USD/Month)  \n",
       "0   28               10813  \n",
       "1   28               10813  \n",
       "2   28               10813  \n",
       "3   27                9237  \n",
       "4   27                9237  "
      ]
     },
     "execution_count": 22,
     "metadata": {},
     "output_type": "execute_result"
    }
   ],
   "source": [
    "cab_transaction_customer=cab_transaction.merge(customer_data, on=\"Customer ID\")\n",
    "cab_transaction_customer.head()"
   ]
  },
  {
   "cell_type": "code",
   "execution_count": 23,
   "id": "6f2397e7-13d8-4876-b9bc-599419ae8ab8",
   "metadata": {},
   "outputs": [
    {
     "data": {
      "text/html": [
       "<div>\n",
       "<style scoped>\n",
       "    .dataframe tbody tr th:only-of-type {\n",
       "        vertical-align: middle;\n",
       "    }\n",
       "\n",
       "    .dataframe tbody tr th {\n",
       "        vertical-align: top;\n",
       "    }\n",
       "\n",
       "    .dataframe thead th {\n",
       "        text-align: right;\n",
       "    }\n",
       "</style>\n",
       "<table border=\"1\" class=\"dataframe\">\n",
       "  <thead>\n",
       "    <tr style=\"text-align: right;\">\n",
       "      <th></th>\n",
       "      <th>Transaction ID</th>\n",
       "      <th>Date of Travel</th>\n",
       "      <th>Company</th>\n",
       "      <th>City</th>\n",
       "      <th>KM Travelled</th>\n",
       "      <th>Price Charged</th>\n",
       "      <th>Cost of Trip</th>\n",
       "      <th>Customer ID</th>\n",
       "      <th>Payment_Mode</th>\n",
       "      <th>Gender</th>\n",
       "      <th>Age</th>\n",
       "      <th>Income (USD/Month)</th>\n",
       "      <th>Population</th>\n",
       "      <th>Users</th>\n",
       "    </tr>\n",
       "  </thead>\n",
       "  <tbody>\n",
       "    <tr>\n",
       "      <th>0</th>\n",
       "      <td>10000011</td>\n",
       "      <td>1970-01-01 00:00:00.000042377</td>\n",
       "      <td>Pink Cab</td>\n",
       "      <td>ATLANTA GA</td>\n",
       "      <td>30.45</td>\n",
       "      <td>370.95</td>\n",
       "      <td>313.6350</td>\n",
       "      <td>29290</td>\n",
       "      <td>Card</td>\n",
       "      <td>Male</td>\n",
       "      <td>28</td>\n",
       "      <td>10813</td>\n",
       "      <td>814,885</td>\n",
       "      <td>24,701</td>\n",
       "    </tr>\n",
       "    <tr>\n",
       "      <th>1</th>\n",
       "      <td>10351127</td>\n",
       "      <td>1970-01-01 00:00:00.000043302</td>\n",
       "      <td>Yellow Cab</td>\n",
       "      <td>ATLANTA GA</td>\n",
       "      <td>26.19</td>\n",
       "      <td>598.70</td>\n",
       "      <td>317.4228</td>\n",
       "      <td>29290</td>\n",
       "      <td>Cash</td>\n",
       "      <td>Male</td>\n",
       "      <td>28</td>\n",
       "      <td>10813</td>\n",
       "      <td>814,885</td>\n",
       "      <td>24,701</td>\n",
       "    </tr>\n",
       "    <tr>\n",
       "      <th>2</th>\n",
       "      <td>10412921</td>\n",
       "      <td>1970-01-01 00:00:00.000043427</td>\n",
       "      <td>Yellow Cab</td>\n",
       "      <td>ATLANTA GA</td>\n",
       "      <td>42.55</td>\n",
       "      <td>792.05</td>\n",
       "      <td>597.4020</td>\n",
       "      <td>29290</td>\n",
       "      <td>Card</td>\n",
       "      <td>Male</td>\n",
       "      <td>28</td>\n",
       "      <td>10813</td>\n",
       "      <td>814,885</td>\n",
       "      <td>24,701</td>\n",
       "    </tr>\n",
       "    <tr>\n",
       "      <th>3</th>\n",
       "      <td>10000012</td>\n",
       "      <td>1970-01-01 00:00:00.000042375</td>\n",
       "      <td>Pink Cab</td>\n",
       "      <td>ATLANTA GA</td>\n",
       "      <td>28.62</td>\n",
       "      <td>358.52</td>\n",
       "      <td>334.8540</td>\n",
       "      <td>27703</td>\n",
       "      <td>Card</td>\n",
       "      <td>Male</td>\n",
       "      <td>27</td>\n",
       "      <td>9237</td>\n",
       "      <td>814,885</td>\n",
       "      <td>24,701</td>\n",
       "    </tr>\n",
       "    <tr>\n",
       "      <th>4</th>\n",
       "      <td>10320494</td>\n",
       "      <td>1970-01-01 00:00:00.000043211</td>\n",
       "      <td>Yellow Cab</td>\n",
       "      <td>ATLANTA GA</td>\n",
       "      <td>36.38</td>\n",
       "      <td>721.10</td>\n",
       "      <td>467.1192</td>\n",
       "      <td>27703</td>\n",
       "      <td>Card</td>\n",
       "      <td>Male</td>\n",
       "      <td>27</td>\n",
       "      <td>9237</td>\n",
       "      <td>814,885</td>\n",
       "      <td>24,701</td>\n",
       "    </tr>\n",
       "  </tbody>\n",
       "</table>\n",
       "</div>"
      ],
      "text/plain": [
       "   Transaction ID                Date of Travel     Company        City  \\\n",
       "0        10000011 1970-01-01 00:00:00.000042377    Pink Cab  ATLANTA GA   \n",
       "1        10351127 1970-01-01 00:00:00.000043302  Yellow Cab  ATLANTA GA   \n",
       "2        10412921 1970-01-01 00:00:00.000043427  Yellow Cab  ATLANTA GA   \n",
       "3        10000012 1970-01-01 00:00:00.000042375    Pink Cab  ATLANTA GA   \n",
       "4        10320494 1970-01-01 00:00:00.000043211  Yellow Cab  ATLANTA GA   \n",
       "\n",
       "   KM Travelled  Price Charged  Cost of Trip  Customer ID Payment_Mode Gender  \\\n",
       "0         30.45         370.95      313.6350        29290         Card   Male   \n",
       "1         26.19         598.70      317.4228        29290         Cash   Male   \n",
       "2         42.55         792.05      597.4020        29290         Card   Male   \n",
       "3         28.62         358.52      334.8540        27703         Card   Male   \n",
       "4         36.38         721.10      467.1192        27703         Card   Male   \n",
       "\n",
       "   Age  Income (USD/Month) Population     Users  \n",
       "0   28               10813   814,885    24,701   \n",
       "1   28               10813   814,885    24,701   \n",
       "2   28               10813   814,885    24,701   \n",
       "3   27                9237   814,885    24,701   \n",
       "4   27                9237   814,885    24,701   "
      ]
     },
     "execution_count": 23,
     "metadata": {},
     "output_type": "execute_result"
    }
   ],
   "source": [
    "master_data=cab_transaction_customer.merge(city_data, on=\"City\")\n",
    "master_data.head()"
   ]
  },
  {
   "cell_type": "code",
   "execution_count": 24,
   "id": "0e2134b8-2bcc-4f2e-bbb0-e17a98632a00",
   "metadata": {},
   "outputs": [
    {
     "name": "stdout",
     "output_type": "stream",
     "text": [
      "<class 'pandas.core.frame.DataFrame'>\n",
      "Int64Index: 359392 entries, 0 to 359391\n",
      "Data columns (total 14 columns):\n",
      " #   Column              Non-Null Count   Dtype         \n",
      "---  ------              --------------   -----         \n",
      " 0   Transaction ID      359392 non-null  int64         \n",
      " 1   Date of Travel      359392 non-null  datetime64[ns]\n",
      " 2   Company             359392 non-null  object        \n",
      " 3   City                359392 non-null  object        \n",
      " 4   KM Travelled        359392 non-null  float64       \n",
      " 5   Price Charged       359392 non-null  float64       \n",
      " 6   Cost of Trip        359392 non-null  float64       \n",
      " 7   Customer ID         359392 non-null  int64         \n",
      " 8   Payment_Mode        359392 non-null  object        \n",
      " 9   Gender              359392 non-null  object        \n",
      " 10  Age                 359392 non-null  int64         \n",
      " 11  Income (USD/Month)  359392 non-null  int64         \n",
      " 12  Population          359392 non-null  object        \n",
      " 13  Users               359392 non-null  object        \n",
      "dtypes: datetime64[ns](1), float64(3), int64(4), object(6)\n",
      "memory usage: 41.1+ MB\n",
      "None\n",
      "How many values are empty?:  0\n",
      "Number of duplicate records: 0\n"
     ]
    }
   ],
   "source": [
    "print(master_data.info())\n",
    "print(\"How many values are empty?: \", master_data.isnull().sum().sum())\n",
    "print(\"Number of duplicate records:\", master_data.duplicated().sum())"
   ]
  },
  {
   "cell_type": "code",
   "execution_count": 25,
   "id": "ead07304-d354-4191-a85a-20584541f986",
   "metadata": {},
   "outputs": [
    {
     "data": {
      "text/html": [
       "<div>\n",
       "<style scoped>\n",
       "    .dataframe tbody tr th:only-of-type {\n",
       "        vertical-align: middle;\n",
       "    }\n",
       "\n",
       "    .dataframe tbody tr th {\n",
       "        vertical-align: top;\n",
       "    }\n",
       "\n",
       "    .dataframe thead th {\n",
       "        text-align: right;\n",
       "    }\n",
       "</style>\n",
       "<table border=\"1\" class=\"dataframe\">\n",
       "  <thead>\n",
       "    <tr style=\"text-align: right;\">\n",
       "      <th></th>\n",
       "      <th>count</th>\n",
       "      <th>mean</th>\n",
       "      <th>std</th>\n",
       "      <th>min</th>\n",
       "      <th>25%</th>\n",
       "      <th>50%</th>\n",
       "      <th>75%</th>\n",
       "      <th>max</th>\n",
       "    </tr>\n",
       "  </thead>\n",
       "  <tbody>\n",
       "    <tr>\n",
       "      <th>Transaction ID</th>\n",
       "      <td>359392.0</td>\n",
       "      <td>1.022076e+07</td>\n",
       "      <td>126805.803715</td>\n",
       "      <td>10000011.0</td>\n",
       "      <td>1.011081e+07</td>\n",
       "      <td>10221035.50</td>\n",
       "      <td>1.033094e+07</td>\n",
       "      <td>10440107.00</td>\n",
       "    </tr>\n",
       "    <tr>\n",
       "      <th>KM Travelled</th>\n",
       "      <td>359392.0</td>\n",
       "      <td>2.256725e+01</td>\n",
       "      <td>12.233526</td>\n",
       "      <td>1.9</td>\n",
       "      <td>1.200000e+01</td>\n",
       "      <td>22.44</td>\n",
       "      <td>3.296000e+01</td>\n",
       "      <td>48.00</td>\n",
       "    </tr>\n",
       "    <tr>\n",
       "      <th>Price Charged</th>\n",
       "      <td>359392.0</td>\n",
       "      <td>4.234433e+02</td>\n",
       "      <td>274.378911</td>\n",
       "      <td>15.6</td>\n",
       "      <td>2.064375e+02</td>\n",
       "      <td>386.36</td>\n",
       "      <td>5.836600e+02</td>\n",
       "      <td>2048.03</td>\n",
       "    </tr>\n",
       "    <tr>\n",
       "      <th>Cost of Trip</th>\n",
       "      <td>359392.0</td>\n",
       "      <td>2.861901e+02</td>\n",
       "      <td>157.993661</td>\n",
       "      <td>19.0</td>\n",
       "      <td>1.512000e+02</td>\n",
       "      <td>282.48</td>\n",
       "      <td>4.136832e+02</td>\n",
       "      <td>691.20</td>\n",
       "    </tr>\n",
       "    <tr>\n",
       "      <th>Customer ID</th>\n",
       "      <td>359392.0</td>\n",
       "      <td>1.919165e+04</td>\n",
       "      <td>21012.412463</td>\n",
       "      <td>1.0</td>\n",
       "      <td>2.705000e+03</td>\n",
       "      <td>7459.00</td>\n",
       "      <td>3.607800e+04</td>\n",
       "      <td>60000.00</td>\n",
       "    </tr>\n",
       "    <tr>\n",
       "      <th>Age</th>\n",
       "      <td>359392.0</td>\n",
       "      <td>3.533670e+01</td>\n",
       "      <td>12.594234</td>\n",
       "      <td>18.0</td>\n",
       "      <td>2.500000e+01</td>\n",
       "      <td>33.00</td>\n",
       "      <td>4.200000e+01</td>\n",
       "      <td>65.00</td>\n",
       "    </tr>\n",
       "    <tr>\n",
       "      <th>Income (USD/Month)</th>\n",
       "      <td>359392.0</td>\n",
       "      <td>1.504882e+04</td>\n",
       "      <td>7969.409482</td>\n",
       "      <td>2000.0</td>\n",
       "      <td>8.424000e+03</td>\n",
       "      <td>14685.00</td>\n",
       "      <td>2.103500e+04</td>\n",
       "      <td>35000.00</td>\n",
       "    </tr>\n",
       "  </tbody>\n",
       "</table>\n",
       "</div>"
      ],
      "text/plain": [
       "                       count          mean            std         min  \\\n",
       "Transaction ID      359392.0  1.022076e+07  126805.803715  10000011.0   \n",
       "KM Travelled        359392.0  2.256725e+01      12.233526         1.9   \n",
       "Price Charged       359392.0  4.234433e+02     274.378911        15.6   \n",
       "Cost of Trip        359392.0  2.861901e+02     157.993661        19.0   \n",
       "Customer ID         359392.0  1.919165e+04   21012.412463         1.0   \n",
       "Age                 359392.0  3.533670e+01      12.594234        18.0   \n",
       "Income (USD/Month)  359392.0  1.504882e+04    7969.409482      2000.0   \n",
       "\n",
       "                             25%          50%           75%          max  \n",
       "Transaction ID      1.011081e+07  10221035.50  1.033094e+07  10440107.00  \n",
       "KM Travelled        1.200000e+01        22.44  3.296000e+01        48.00  \n",
       "Price Charged       2.064375e+02       386.36  5.836600e+02      2048.03  \n",
       "Cost of Trip        1.512000e+02       282.48  4.136832e+02       691.20  \n",
       "Customer ID         2.705000e+03      7459.00  3.607800e+04     60000.00  \n",
       "Age                 2.500000e+01        33.00  4.200000e+01        65.00  \n",
       "Income (USD/Month)  8.424000e+03     14685.00  2.103500e+04     35000.00  "
      ]
     },
     "execution_count": 25,
     "metadata": {},
     "output_type": "execute_result"
    }
   ],
   "source": [
    "master_data.describe().T"
   ]
  },
  {
   "cell_type": "code",
   "execution_count": 26,
   "id": "be65d093-3788-450c-91a3-24ad4c0d60d8",
   "metadata": {},
   "outputs": [
    {
     "data": {
      "text/plain": [
       "<Axes: >"
      ]
     },
     "execution_count": 26,
     "metadata": {},
     "output_type": "execute_result"
    },
    {
     "data": {
      "image/png": "[encoded data removed]",
      "text/plain": [
       "<Figure size 640x480 with 1 Axes>"
      ]
     },
     "metadata": {},
     "output_type": "display_data"
    }
   ],
   "source": [
    "import seaborn as sns\n",
    "\n",
    "master_data[\"Profit\"]=master_data[\"Price Charged\"] - master_data[\"Cost of Trip\"]\n",
    "sns.boxplot(master_data[\"Profit\"])\n"
   ]
  },
  {
   "cell_type": "code",
   "execution_count": 27,
   "id": "9087d8db-6e99-4a6c-847c-9f63d46cbde1",
   "metadata": {},
   "outputs": [
    {
     "name": "stdout",
     "output_type": "stream",
     "text": [
      "Number of extreme values: 23550\n"
     ]
    }
   ],
   "source": [
    "Q1=master_data[\"Profit\"].quantile(0.25)\n",
    "Q3=master_data[\"Profit\"].quantile(0.75)\n",
    "IQR=Q3-Q1\n",
    "lower_limit=Q1-1.5*IQR\n",
    "upper_limit=Q3+1.5*IQR\n",
    "outliers=master_data[(master_data['Profit']<lower_limit) | (master_data[\"Profit\"]>upper_limit)]\n",
    "print(\"Number of extreme values:\", outliers.shape[0])"
   ]
  },
  {
   "cell_type": "code",
   "execution_count": 28,
   "id": "36a8106b-aa2a-4ecf-aa0c-8f85da27be6c",
   "metadata": {},
   "outputs": [],
   "source": [
    "company_profit=master_data.groupby(\"Company\")[\"Profit\"].sum()"
   ]
  },
  {
   "cell_type": "code",
   "execution_count": 51,
   "id": "e8ed1ff6-7b44-43a8-8b80-3acdbf37610b",
   "metadata": {},
   "outputs": [
    {
     "data": {
      "image/png": "[encoded data removed]",
      "text/plain": [
       "<Figure size 800x500 with 1 Axes>"
      ]
     },
     "metadata": {},
     "output_type": "display_data"
    }
   ],
   "source": [
    "import matplotlib.pyplot as plt\n",
    "company_profit.plot(kind=\"bar\", figsize =(8,5), color=[\"pink\",\"yellow\"])\n",
    "plt.title(\"Total Profitability by Company\")\n",
    "plt.ylabel(\"Total Profit\")\n",
    "plt.xlabel(\"Company\")\n",
    "plt.savefig(\"total_profit_by_company.png\", dpi=300, bbox_inches=\"tight\")\n",
    "plt.show()"
   ]
  },
  {
   "cell_type": "code",
   "execution_count": 30,
   "id": "2a3a893b-2812-4752-8fa2-d2a6e840ba2e",
   "metadata": {},
   "outputs": [],
   "source": [
    "city_profit=master_data.groupby(\"City\")[\"Profit\"].sum()"
   ]
  },
  {
   "cell_type": "code",
   "execution_count": 31,
   "id": "2d3d9ef5-af02-4c3d-a051-64b55c7efcfc",
   "metadata": {},
   "outputs": [
    {
     "data": {
      "text/plain": [
       "City\n",
       "ATLANTA GA    8.424329e+05\n",
       "AUSTIN TX     5.267010e+05\n",
       "BOSTON MA     1.768719e+06\n",
       "CHICAGO IL    3.387313e+06\n",
       "DALLAS TX     1.128733e+06\n",
       "Name: Profit, dtype: float64"
      ]
     },
     "execution_count": 31,
     "metadata": {},
     "output_type": "execute_result"
    }
   ],
   "source": [
    "city_profit.head()"
   ]
  },
  {
   "cell_type": "code",
   "execution_count": 52,
   "id": "eda608d9-c2fd-439b-b034-243024d2c0aa",
   "metadata": {},
   "outputs": [
    {
     "data": {
      "image/png": "[encoded data removed]",
      "text/plain": [
       "<Figure size 1500x700 with 1 Axes>"
      ]
     },
     "metadata": {},
     "output_type": "display_data"
    }
   ],
   "source": [
    "city_profit.sort_values(ascending=False).plot(kind=\"bar\", figsize=(15,7), color=\"teal\")\n",
    "plt.title(\"Total Profitability by City\")\n",
    "plt.ylabel(\"Total Profit\")\n",
    "plt.xlabel(\"City\")\n",
    "plt.savefig(\"total_profit_by_city.png\", dpi=300, bbox_inches=\"tight\") \n",
    "plt.show()"
   ]
  },
  {
   "cell_type": "code",
   "execution_count": 33,
   "id": "84644891-7de7-440f-8b88-44abbbc73ba6",
   "metadata": {},
   "outputs": [
    {
     "data": {
      "text/html": [
       "<div>\n",
       "<style scoped>\n",
       "    .dataframe tbody tr th:only-of-type {\n",
       "        vertical-align: middle;\n",
       "    }\n",
       "\n",
       "    .dataframe tbody tr th {\n",
       "        vertical-align: top;\n",
       "    }\n",
       "\n",
       "    .dataframe thead th {\n",
       "        text-align: right;\n",
       "    }\n",
       "</style>\n",
       "<table border=\"1\" class=\"dataframe\">\n",
       "  <thead>\n",
       "    <tr style=\"text-align: right;\">\n",
       "      <th></th>\n",
       "      <th>Transaction ID</th>\n",
       "      <th>Date of Travel</th>\n",
       "      <th>Company</th>\n",
       "      <th>City</th>\n",
       "      <th>KM Travelled</th>\n",
       "      <th>Price Charged</th>\n",
       "      <th>Cost of Trip</th>\n",
       "      <th>Customer ID</th>\n",
       "      <th>Payment_Mode</th>\n",
       "      <th>Gender</th>\n",
       "      <th>Age</th>\n",
       "      <th>Income (USD/Month)</th>\n",
       "      <th>Population</th>\n",
       "      <th>Users</th>\n",
       "      <th>Profit</th>\n",
       "    </tr>\n",
       "  </thead>\n",
       "  <tbody>\n",
       "    <tr>\n",
       "      <th>0</th>\n",
       "      <td>10000011</td>\n",
       "      <td>1970-01-01 00:00:00.000042377</td>\n",
       "      <td>Pink Cab</td>\n",
       "      <td>ATLANTA GA</td>\n",
       "      <td>30.45</td>\n",
       "      <td>370.95</td>\n",
       "      <td>313.6350</td>\n",
       "      <td>29290</td>\n",
       "      <td>Card</td>\n",
       "      <td>Male</td>\n",
       "      <td>28</td>\n",
       "      <td>10813</td>\n",
       "      <td>814,885</td>\n",
       "      <td>24,701</td>\n",
       "      <td>57.3150</td>\n",
       "    </tr>\n",
       "    <tr>\n",
       "      <th>1</th>\n",
       "      <td>10351127</td>\n",
       "      <td>1970-01-01 00:00:00.000043302</td>\n",
       "      <td>Yellow Cab</td>\n",
       "      <td>ATLANTA GA</td>\n",
       "      <td>26.19</td>\n",
       "      <td>598.70</td>\n",
       "      <td>317.4228</td>\n",
       "      <td>29290</td>\n",
       "      <td>Cash</td>\n",
       "      <td>Male</td>\n",
       "      <td>28</td>\n",
       "      <td>10813</td>\n",
       "      <td>814,885</td>\n",
       "      <td>24,701</td>\n",
       "      <td>281.2772</td>\n",
       "    </tr>\n",
       "    <tr>\n",
       "      <th>2</th>\n",
       "      <td>10412921</td>\n",
       "      <td>1970-01-01 00:00:00.000043427</td>\n",
       "      <td>Yellow Cab</td>\n",
       "      <td>ATLANTA GA</td>\n",
       "      <td>42.55</td>\n",
       "      <td>792.05</td>\n",
       "      <td>597.4020</td>\n",
       "      <td>29290</td>\n",
       "      <td>Card</td>\n",
       "      <td>Male</td>\n",
       "      <td>28</td>\n",
       "      <td>10813</td>\n",
       "      <td>814,885</td>\n",
       "      <td>24,701</td>\n",
       "      <td>194.6480</td>\n",
       "    </tr>\n",
       "    <tr>\n",
       "      <th>3</th>\n",
       "      <td>10000012</td>\n",
       "      <td>1970-01-01 00:00:00.000042375</td>\n",
       "      <td>Pink Cab</td>\n",
       "      <td>ATLANTA GA</td>\n",
       "      <td>28.62</td>\n",
       "      <td>358.52</td>\n",
       "      <td>334.8540</td>\n",
       "      <td>27703</td>\n",
       "      <td>Card</td>\n",
       "      <td>Male</td>\n",
       "      <td>27</td>\n",
       "      <td>9237</td>\n",
       "      <td>814,885</td>\n",
       "      <td>24,701</td>\n",
       "      <td>23.6660</td>\n",
       "    </tr>\n",
       "    <tr>\n",
       "      <th>4</th>\n",
       "      <td>10320494</td>\n",
       "      <td>1970-01-01 00:00:00.000043211</td>\n",
       "      <td>Yellow Cab</td>\n",
       "      <td>ATLANTA GA</td>\n",
       "      <td>36.38</td>\n",
       "      <td>721.10</td>\n",
       "      <td>467.1192</td>\n",
       "      <td>27703</td>\n",
       "      <td>Card</td>\n",
       "      <td>Male</td>\n",
       "      <td>27</td>\n",
       "      <td>9237</td>\n",
       "      <td>814,885</td>\n",
       "      <td>24,701</td>\n",
       "      <td>253.9808</td>\n",
       "    </tr>\n",
       "  </tbody>\n",
       "</table>\n",
       "</div>"
      ],
      "text/plain": [
       "   Transaction ID                Date of Travel     Company        City  \\\n",
       "0        10000011 1970-01-01 00:00:00.000042377    Pink Cab  ATLANTA GA   \n",
       "1        10351127 1970-01-01 00:00:00.000043302  Yellow Cab  ATLANTA GA   \n",
       "2        10412921 1970-01-01 00:00:00.000043427  Yellow Cab  ATLANTA GA   \n",
       "3        10000012 1970-01-01 00:00:00.000042375    Pink Cab  ATLANTA GA   \n",
       "4        10320494 1970-01-01 00:00:00.000043211  Yellow Cab  ATLANTA GA   \n",
       "\n",
       "   KM Travelled  Price Charged  Cost of Trip  Customer ID Payment_Mode Gender  \\\n",
       "0         30.45         370.95      313.6350        29290         Card   Male   \n",
       "1         26.19         598.70      317.4228        29290         Cash   Male   \n",
       "2         42.55         792.05      597.4020        29290         Card   Male   \n",
       "3         28.62         358.52      334.8540        27703         Card   Male   \n",
       "4         36.38         721.10      467.1192        27703         Card   Male   \n",
       "\n",
       "   Age  Income (USD/Month) Population     Users    Profit  \n",
       "0   28               10813   814,885    24,701    57.3150  \n",
       "1   28               10813   814,885    24,701   281.2772  \n",
       "2   28               10813   814,885    24,701   194.6480  \n",
       "3   27                9237   814,885    24,701    23.6660  \n",
       "4   27                9237   814,885    24,701   253.9808  "
      ]
     },
     "execution_count": 33,
     "metadata": {},
     "output_type": "execute_result"
    }
   ],
   "source": [
    "master_data.head()"
   ]
  },
  {
   "cell_type": "code",
   "execution_count": 34,
   "id": "af547e3a-ccd9-476a-93b0-37fee15b519f",
   "metadata": {},
   "outputs": [
    {
     "data": {
      "text/plain": [
       "Transaction ID                 int64\n",
       "Date of Travel        datetime64[ns]\n",
       "Company                       object\n",
       "City                          object\n",
       "KM Travelled                 float64\n",
       "Price Charged                float64\n",
       "Cost of Trip                 float64\n",
       "Customer ID                    int64\n",
       "Payment_Mode                  object\n",
       "Gender                        object\n",
       "Age                            int64\n",
       "Income (USD/Month)             int64\n",
       "Population                    object\n",
       "Users                         object\n",
       "Profit                       float64\n",
       "dtype: object"
      ]
     },
     "execution_count": 34,
     "metadata": {},
     "output_type": "execute_result"
    }
   ],
   "source": [
    "master_data.dtypes"
   ]
  },
  {
   "cell_type": "code",
   "execution_count": 35,
   "id": "404262b8-9aeb-437e-a0cc-066b068cd9bb",
   "metadata": {},
   "outputs": [],
   "source": [
    "master_data[\"Users\"] = master_data[\"Users\"].str.replace(\",\", \"\").str.strip()\n",
    "master_data[\"Population\"] = master_data[\"Population\"].str.replace(\",\", \"\").str.strip()"
   ]
  },
  {
   "cell_type": "code",
   "execution_count": 36,
   "id": "f3a23e39-30f8-44a1-b920-4124cf2b4d4f",
   "metadata": {},
   "outputs": [],
   "source": [
    "master_data[\"Users\"]=pd.to_numeric(master_data[\"Users\"])\n",
    "master_data[\"Population\"]=pd.to_numeric(master_data[\"Population\"])"
   ]
  },
  {
   "cell_type": "code",
   "execution_count": 37,
   "id": "f57bd4ad-75a9-492a-9eee-3742f151ab9f",
   "metadata": {},
   "outputs": [
    {
     "data": {
      "text/plain": [
       "Users         0\n",
       "Population    0\n",
       "dtype: int64"
      ]
     },
     "execution_count": 37,
     "metadata": {},
     "output_type": "execute_result"
    }
   ],
   "source": [
    "master_data[[\"Users\", \"Population\"]].isnull().sum()"
   ]
  },
  {
   "cell_type": "code",
   "execution_count": 38,
   "id": "b2ed8c9e-b831-4596-9efa-6c748d7aec93",
   "metadata": {},
   "outputs": [],
   "source": [
    "master_data[\"Profit_per_User\"] = master_data[\"Profit\"]/master_data[\"Users\"]\n",
    "master_data[\"Profit_per_Capita\"] = master_data[\"Profit\"]/master_data[\"Population\"]"
   ]
  },
  {
   "cell_type": "code",
   "execution_count": 39,
   "id": "5f76a447-2c00-4bde-85d9-42bc9b902ed8",
   "metadata": {},
   "outputs": [
    {
     "data": {
      "text/html": [
       "<div>\n",
       "<style scoped>\n",
       "    .dataframe tbody tr th:only-of-type {\n",
       "        vertical-align: middle;\n",
       "    }\n",
       "\n",
       "    .dataframe tbody tr th {\n",
       "        vertical-align: top;\n",
       "    }\n",
       "\n",
       "    .dataframe thead th {\n",
       "        text-align: right;\n",
       "    }\n",
       "</style>\n",
       "<table border=\"1\" class=\"dataframe\">\n",
       "  <thead>\n",
       "    <tr style=\"text-align: right;\">\n",
       "      <th></th>\n",
       "      <th>City</th>\n",
       "      <th>Profit_per_User</th>\n",
       "      <th>Profit_per_Capita</th>\n",
       "    </tr>\n",
       "  </thead>\n",
       "  <tbody>\n",
       "    <tr>\n",
       "      <th>0</th>\n",
       "      <td>ATLANTA GA</td>\n",
       "      <td>0.002320</td>\n",
       "      <td>0.000070</td>\n",
       "    </tr>\n",
       "    <tr>\n",
       "      <th>1</th>\n",
       "      <td>ATLANTA GA</td>\n",
       "      <td>0.011387</td>\n",
       "      <td>0.000345</td>\n",
       "    </tr>\n",
       "    <tr>\n",
       "      <th>2</th>\n",
       "      <td>ATLANTA GA</td>\n",
       "      <td>0.007880</td>\n",
       "      <td>0.000239</td>\n",
       "    </tr>\n",
       "    <tr>\n",
       "      <th>3</th>\n",
       "      <td>ATLANTA GA</td>\n",
       "      <td>0.000958</td>\n",
       "      <td>0.000029</td>\n",
       "    </tr>\n",
       "    <tr>\n",
       "      <th>4</th>\n",
       "      <td>ATLANTA GA</td>\n",
       "      <td>0.010282</td>\n",
       "      <td>0.000312</td>\n",
       "    </tr>\n",
       "  </tbody>\n",
       "</table>\n",
       "</div>"
      ],
      "text/plain": [
       "         City  Profit_per_User  Profit_per_Capita\n",
       "0  ATLANTA GA         0.002320           0.000070\n",
       "1  ATLANTA GA         0.011387           0.000345\n",
       "2  ATLANTA GA         0.007880           0.000239\n",
       "3  ATLANTA GA         0.000958           0.000029\n",
       "4  ATLANTA GA         0.010282           0.000312"
      ]
     },
     "execution_count": 39,
     "metadata": {},
     "output_type": "execute_result"
    }
   ],
   "source": [
    "master_data[[\"City\", \"Profit_per_User\", \"Profit_per_Capita\"]].head()"
   ]
  },
  {
   "cell_type": "code",
   "execution_count": 40,
   "id": "2081c18b-cad6-4f51-8ec3-e7d536c51a74",
   "metadata": {},
   "outputs": [
    {
     "data": {
      "text/html": [
       "<div>\n",
       "<style scoped>\n",
       "    .dataframe tbody tr th:only-of-type {\n",
       "        vertical-align: middle;\n",
       "    }\n",
       "\n",
       "    .dataframe tbody tr th {\n",
       "        vertical-align: top;\n",
       "    }\n",
       "\n",
       "    .dataframe thead th {\n",
       "        text-align: right;\n",
       "    }\n",
       "</style>\n",
       "<table border=\"1\" class=\"dataframe\">\n",
       "  <thead>\n",
       "    <tr style=\"text-align: right;\">\n",
       "      <th></th>\n",
       "      <th>Transaction ID</th>\n",
       "      <th>Date of Travel</th>\n",
       "      <th>Company</th>\n",
       "      <th>City</th>\n",
       "      <th>KM Travelled</th>\n",
       "      <th>Price Charged</th>\n",
       "      <th>Cost of Trip</th>\n",
       "      <th>Customer ID</th>\n",
       "      <th>Payment_Mode</th>\n",
       "      <th>Gender</th>\n",
       "      <th>Age</th>\n",
       "      <th>Income (USD/Month)</th>\n",
       "      <th>Population</th>\n",
       "      <th>Users</th>\n",
       "      <th>Profit</th>\n",
       "      <th>Profit_per_User</th>\n",
       "      <th>Profit_per_Capita</th>\n",
       "    </tr>\n",
       "  </thead>\n",
       "  <tbody>\n",
       "    <tr>\n",
       "      <th>0</th>\n",
       "      <td>10000011</td>\n",
       "      <td>1970-01-01 00:00:00.000042377</td>\n",
       "      <td>Pink Cab</td>\n",
       "      <td>ATLANTA GA</td>\n",
       "      <td>30.45</td>\n",
       "      <td>370.95</td>\n",
       "      <td>313.6350</td>\n",
       "      <td>29290</td>\n",
       "      <td>Card</td>\n",
       "      <td>Male</td>\n",
       "      <td>28</td>\n",
       "      <td>10813</td>\n",
       "      <td>814885</td>\n",
       "      <td>24701</td>\n",
       "      <td>57.3150</td>\n",
       "      <td>0.002320</td>\n",
       "      <td>0.000070</td>\n",
       "    </tr>\n",
       "    <tr>\n",
       "      <th>1</th>\n",
       "      <td>10351127</td>\n",
       "      <td>1970-01-01 00:00:00.000043302</td>\n",
       "      <td>Yellow Cab</td>\n",
       "      <td>ATLANTA GA</td>\n",
       "      <td>26.19</td>\n",
       "      <td>598.70</td>\n",
       "      <td>317.4228</td>\n",
       "      <td>29290</td>\n",
       "      <td>Cash</td>\n",
       "      <td>Male</td>\n",
       "      <td>28</td>\n",
       "      <td>10813</td>\n",
       "      <td>814885</td>\n",
       "      <td>24701</td>\n",
       "      <td>281.2772</td>\n",
       "      <td>0.011387</td>\n",
       "      <td>0.000345</td>\n",
       "    </tr>\n",
       "    <tr>\n",
       "      <th>2</th>\n",
       "      <td>10412921</td>\n",
       "      <td>1970-01-01 00:00:00.000043427</td>\n",
       "      <td>Yellow Cab</td>\n",
       "      <td>ATLANTA GA</td>\n",
       "      <td>42.55</td>\n",
       "      <td>792.05</td>\n",
       "      <td>597.4020</td>\n",
       "      <td>29290</td>\n",
       "      <td>Card</td>\n",
       "      <td>Male</td>\n",
       "      <td>28</td>\n",
       "      <td>10813</td>\n",
       "      <td>814885</td>\n",
       "      <td>24701</td>\n",
       "      <td>194.6480</td>\n",
       "      <td>0.007880</td>\n",
       "      <td>0.000239</td>\n",
       "    </tr>\n",
       "    <tr>\n",
       "      <th>3</th>\n",
       "      <td>10000012</td>\n",
       "      <td>1970-01-01 00:00:00.000042375</td>\n",
       "      <td>Pink Cab</td>\n",
       "      <td>ATLANTA GA</td>\n",
       "      <td>28.62</td>\n",
       "      <td>358.52</td>\n",
       "      <td>334.8540</td>\n",
       "      <td>27703</td>\n",
       "      <td>Card</td>\n",
       "      <td>Male</td>\n",
       "      <td>27</td>\n",
       "      <td>9237</td>\n",
       "      <td>814885</td>\n",
       "      <td>24701</td>\n",
       "      <td>23.6660</td>\n",
       "      <td>0.000958</td>\n",
       "      <td>0.000029</td>\n",
       "    </tr>\n",
       "    <tr>\n",
       "      <th>4</th>\n",
       "      <td>10320494</td>\n",
       "      <td>1970-01-01 00:00:00.000043211</td>\n",
       "      <td>Yellow Cab</td>\n",
       "      <td>ATLANTA GA</td>\n",
       "      <td>36.38</td>\n",
       "      <td>721.10</td>\n",
       "      <td>467.1192</td>\n",
       "      <td>27703</td>\n",
       "      <td>Card</td>\n",
       "      <td>Male</td>\n",
       "      <td>27</td>\n",
       "      <td>9237</td>\n",
       "      <td>814885</td>\n",
       "      <td>24701</td>\n",
       "      <td>253.9808</td>\n",
       "      <td>0.010282</td>\n",
       "      <td>0.000312</td>\n",
       "    </tr>\n",
       "  </tbody>\n",
       "</table>\n",
       "</div>"
      ],
      "text/plain": [
       "   Transaction ID                Date of Travel     Company        City  \\\n",
       "0        10000011 1970-01-01 00:00:00.000042377    Pink Cab  ATLANTA GA   \n",
       "1        10351127 1970-01-01 00:00:00.000043302  Yellow Cab  ATLANTA GA   \n",
       "2        10412921 1970-01-01 00:00:00.000043427  Yellow Cab  ATLANTA GA   \n",
       "3        10000012 1970-01-01 00:00:00.000042375    Pink Cab  ATLANTA GA   \n",
       "4        10320494 1970-01-01 00:00:00.000043211  Yellow Cab  ATLANTA GA   \n",
       "\n",
       "   KM Travelled  Price Charged  Cost of Trip  Customer ID Payment_Mode Gender  \\\n",
       "0         30.45         370.95      313.6350        29290         Card   Male   \n",
       "1         26.19         598.70      317.4228        29290         Cash   Male   \n",
       "2         42.55         792.05      597.4020        29290         Card   Male   \n",
       "3         28.62         358.52      334.8540        27703         Card   Male   \n",
       "4         36.38         721.10      467.1192        27703         Card   Male   \n",
       "\n",
       "   Age  Income (USD/Month)  Population  Users    Profit  Profit_per_User  \\\n",
       "0   28               10813      814885  24701   57.3150         0.002320   \n",
       "1   28               10813      814885  24701  281.2772         0.011387   \n",
       "2   28               10813      814885  24701  194.6480         0.007880   \n",
       "3   27                9237      814885  24701   23.6660         0.000958   \n",
       "4   27                9237      814885  24701  253.9808         0.010282   \n",
       "\n",
       "   Profit_per_Capita  \n",
       "0           0.000070  \n",
       "1           0.000345  \n",
       "2           0.000239  \n",
       "3           0.000029  \n",
       "4           0.000312  "
      ]
     },
     "execution_count": 40,
     "metadata": {},
     "output_type": "execute_result"
    }
   ],
   "source": [
    "master_data.head()"
   ]
  },
  {
   "cell_type": "code",
   "execution_count": 53,
   "id": "cc66eea5-53f1-4ea8-bab6-a8f6aa8194d2",
   "metadata": {},
   "outputs": [
    {
     "data": {
      "image/png": "[encoded data removed]",
      "text/plain": [
       "<Figure size 1200x600 with 1 Axes>"
      ]
     },
     "metadata": {},
     "output_type": "display_data"
    }
   ],
   "source": [
    "#Profitability per user\n",
    "master_data.groupby(\"City\")[\"Profit_per_User\"].mean().sort_values(ascending=False).head(10).plot(kind=\"bar\",\n",
    "                                                                            figsize=(12,6),color=\"blue\")\n",
    "plt.title(\"Average Profitability per User (Top 10 Cities)\")\n",
    "plt.ylabel(\"Profit Per User\")\n",
    "plt.xlabel(\"City\")\n",
    "plt.savefig(\"profit_per_user_top10.png\", dpi=300, bbox_inches=\"tight\")\n",
    "plt.show()"
   ]
  },
  {
   "cell_type": "code",
   "execution_count": 54,
   "id": "d1cfeb51-fc92-47a2-a07a-eea0ebdef233",
   "metadata": {},
   "outputs": [
    {
     "data": {
      "image/png": "[encoded data removed]",
      "text/plain": [
       "<Figure size 1200x600 with 1 Axes>"
      ]
     },
     "metadata": {},
     "output_type": "display_data"
    }
   ],
   "source": [
    "#Profitability per head of population\n",
    "master_data.groupby(\"City\")[\"Profit_per_Capita\"].mean().sort_values(ascending=False).head(10).plot(kind=\"bar\",\n",
    "                                                                                figsize=(12,6),color=\"red\")\n",
    "plt.title(\"Average Profitability per Population (Top 10 Cities)\")\n",
    "plt.ylabel(\"Profit per Population\")\n",
    "plt.xlabel(\"City\")\n",
    "plt.savefig(\"profit_per_population_top10.png\", dpi=300, bbox_inches=\"tight\")\n",
    "plt.show()"
   ]
  },
  {
   "cell_type": "code",
   "execution_count": 43,
   "id": "06632fa3-2833-4115-b6f2-626e2b02f2a9",
   "metadata": {},
   "outputs": [
    {
     "data": {
      "text/html": [
       "<div>\n",
       "<style scoped>\n",
       "    .dataframe tbody tr th:only-of-type {\n",
       "        vertical-align: middle;\n",
       "    }\n",
       "\n",
       "    .dataframe tbody tr th {\n",
       "        vertical-align: top;\n",
       "    }\n",
       "\n",
       "    .dataframe thead th {\n",
       "        text-align: right;\n",
       "    }\n",
       "</style>\n",
       "<table border=\"1\" class=\"dataframe\">\n",
       "  <thead>\n",
       "    <tr style=\"text-align: right;\">\n",
       "      <th></th>\n",
       "      <th>Transaction ID</th>\n",
       "      <th>Date of Travel</th>\n",
       "      <th>Company</th>\n",
       "      <th>City</th>\n",
       "      <th>KM Travelled</th>\n",
       "      <th>Price Charged</th>\n",
       "      <th>Cost of Trip</th>\n",
       "      <th>Customer ID</th>\n",
       "      <th>Payment_Mode</th>\n",
       "      <th>Gender</th>\n",
       "      <th>Age</th>\n",
       "      <th>Income (USD/Month)</th>\n",
       "      <th>Population</th>\n",
       "      <th>Users</th>\n",
       "      <th>Profit</th>\n",
       "      <th>Profit_per_User</th>\n",
       "      <th>Profit_per_Capita</th>\n",
       "    </tr>\n",
       "  </thead>\n",
       "  <tbody>\n",
       "    <tr>\n",
       "      <th>0</th>\n",
       "      <td>10000011</td>\n",
       "      <td>1970-01-01 00:00:00.000042377</td>\n",
       "      <td>Pink Cab</td>\n",
       "      <td>ATLANTA GA</td>\n",
       "      <td>30.45</td>\n",
       "      <td>370.95</td>\n",
       "      <td>313.6350</td>\n",
       "      <td>29290</td>\n",
       "      <td>Card</td>\n",
       "      <td>Male</td>\n",
       "      <td>28</td>\n",
       "      <td>10813</td>\n",
       "      <td>814885</td>\n",
       "      <td>24701</td>\n",
       "      <td>57.3150</td>\n",
       "      <td>0.002320</td>\n",
       "      <td>0.000070</td>\n",
       "    </tr>\n",
       "    <tr>\n",
       "      <th>1</th>\n",
       "      <td>10351127</td>\n",
       "      <td>1970-01-01 00:00:00.000043302</td>\n",
       "      <td>Yellow Cab</td>\n",
       "      <td>ATLANTA GA</td>\n",
       "      <td>26.19</td>\n",
       "      <td>598.70</td>\n",
       "      <td>317.4228</td>\n",
       "      <td>29290</td>\n",
       "      <td>Cash</td>\n",
       "      <td>Male</td>\n",
       "      <td>28</td>\n",
       "      <td>10813</td>\n",
       "      <td>814885</td>\n",
       "      <td>24701</td>\n",
       "      <td>281.2772</td>\n",
       "      <td>0.011387</td>\n",
       "      <td>0.000345</td>\n",
       "    </tr>\n",
       "    <tr>\n",
       "      <th>2</th>\n",
       "      <td>10412921</td>\n",
       "      <td>1970-01-01 00:00:00.000043427</td>\n",
       "      <td>Yellow Cab</td>\n",
       "      <td>ATLANTA GA</td>\n",
       "      <td>42.55</td>\n",
       "      <td>792.05</td>\n",
       "      <td>597.4020</td>\n",
       "      <td>29290</td>\n",
       "      <td>Card</td>\n",
       "      <td>Male</td>\n",
       "      <td>28</td>\n",
       "      <td>10813</td>\n",
       "      <td>814885</td>\n",
       "      <td>24701</td>\n",
       "      <td>194.6480</td>\n",
       "      <td>0.007880</td>\n",
       "      <td>0.000239</td>\n",
       "    </tr>\n",
       "    <tr>\n",
       "      <th>3</th>\n",
       "      <td>10000012</td>\n",
       "      <td>1970-01-01 00:00:00.000042375</td>\n",
       "      <td>Pink Cab</td>\n",
       "      <td>ATLANTA GA</td>\n",
       "      <td>28.62</td>\n",
       "      <td>358.52</td>\n",
       "      <td>334.8540</td>\n",
       "      <td>27703</td>\n",
       "      <td>Card</td>\n",
       "      <td>Male</td>\n",
       "      <td>27</td>\n",
       "      <td>9237</td>\n",
       "      <td>814885</td>\n",
       "      <td>24701</td>\n",
       "      <td>23.6660</td>\n",
       "      <td>0.000958</td>\n",
       "      <td>0.000029</td>\n",
       "    </tr>\n",
       "    <tr>\n",
       "      <th>4</th>\n",
       "      <td>10320494</td>\n",
       "      <td>1970-01-01 00:00:00.000043211</td>\n",
       "      <td>Yellow Cab</td>\n",
       "      <td>ATLANTA GA</td>\n",
       "      <td>36.38</td>\n",
       "      <td>721.10</td>\n",
       "      <td>467.1192</td>\n",
       "      <td>27703</td>\n",
       "      <td>Card</td>\n",
       "      <td>Male</td>\n",
       "      <td>27</td>\n",
       "      <td>9237</td>\n",
       "      <td>814885</td>\n",
       "      <td>24701</td>\n",
       "      <td>253.9808</td>\n",
       "      <td>0.010282</td>\n",
       "      <td>0.000312</td>\n",
       "    </tr>\n",
       "  </tbody>\n",
       "</table>\n",
       "</div>"
      ],
      "text/plain": [
       "   Transaction ID                Date of Travel     Company        City  \\\n",
       "0        10000011 1970-01-01 00:00:00.000042377    Pink Cab  ATLANTA GA   \n",
       "1        10351127 1970-01-01 00:00:00.000043302  Yellow Cab  ATLANTA GA   \n",
       "2        10412921 1970-01-01 00:00:00.000043427  Yellow Cab  ATLANTA GA   \n",
       "3        10000012 1970-01-01 00:00:00.000042375    Pink Cab  ATLANTA GA   \n",
       "4        10320494 1970-01-01 00:00:00.000043211  Yellow Cab  ATLANTA GA   \n",
       "\n",
       "   KM Travelled  Price Charged  Cost of Trip  Customer ID Payment_Mode Gender  \\\n",
       "0         30.45         370.95      313.6350        29290         Card   Male   \n",
       "1         26.19         598.70      317.4228        29290         Cash   Male   \n",
       "2         42.55         792.05      597.4020        29290         Card   Male   \n",
       "3         28.62         358.52      334.8540        27703         Card   Male   \n",
       "4         36.38         721.10      467.1192        27703         Card   Male   \n",
       "\n",
       "   Age  Income (USD/Month)  Population  Users    Profit  Profit_per_User  \\\n",
       "0   28               10813      814885  24701   57.3150         0.002320   \n",
       "1   28               10813      814885  24701  281.2772         0.011387   \n",
       "2   28               10813      814885  24701  194.6480         0.007880   \n",
       "3   27                9237      814885  24701   23.6660         0.000958   \n",
       "4   27                9237      814885  24701  253.9808         0.010282   \n",
       "\n",
       "   Profit_per_Capita  \n",
       "0           0.000070  \n",
       "1           0.000345  \n",
       "2           0.000239  \n",
       "3           0.000029  \n",
       "4           0.000312  "
      ]
     },
     "execution_count": 43,
     "metadata": {},
     "output_type": "execute_result"
    }
   ],
   "source": [
    "master_data.head()"
   ]
  },
  {
   "cell_type": "code",
   "execution_count": 44,
   "id": "4e1df9ba-9faa-4df8-a9f9-139e50f8d36e",
   "metadata": {},
   "outputs": [],
   "source": [
    "# We calculate total and average profitability on a company basis\n",
    "company_performance=master_data.groupby(\"Company\")[\"Profit\"].agg([\"sum\",\"mean\"])\n",
    "company_performance.rename(columns={\"sum\":\"Total Profit\", \"mean\":\"Average Profit\"}, inplace=True)"
   ]
  },
  {
   "cell_type": "code",
   "execution_count": 45,
   "id": "9f7a886a-2a2f-4f55-b989-11da5a2181b8",
   "metadata": {},
   "outputs": [
    {
     "data": {
      "text/html": [
       "<div>\n",
       "<style scoped>\n",
       "    .dataframe tbody tr th:only-of-type {\n",
       "        vertical-align: middle;\n",
       "    }\n",
       "\n",
       "    .dataframe tbody tr th {\n",
       "        vertical-align: top;\n",
       "    }\n",
       "\n",
       "    .dataframe thead th {\n",
       "        text-align: right;\n",
       "    }\n",
       "</style>\n",
       "<table border=\"1\" class=\"dataframe\">\n",
       "  <thead>\n",
       "    <tr style=\"text-align: right;\">\n",
       "      <th></th>\n",
       "      <th>Total Profit</th>\n",
       "      <th>Average Profit</th>\n",
       "      <th>Profit_per_User</th>\n",
       "    </tr>\n",
       "    <tr>\n",
       "      <th>Company</th>\n",
       "      <th></th>\n",
       "      <th></th>\n",
       "      <th></th>\n",
       "    </tr>\n",
       "  </thead>\n",
       "  <tbody>\n",
       "    <tr>\n",
       "      <th>Pink Cab</th>\n",
       "      <td>5.307328e+06</td>\n",
       "      <td>62.652174</td>\n",
       "      <td>0.001375</td>\n",
       "    </tr>\n",
       "    <tr>\n",
       "      <th>Yellow Cab</th>\n",
       "      <td>4.402037e+07</td>\n",
       "      <td>160.259986</td>\n",
       "      <td>0.001873</td>\n",
       "    </tr>\n",
       "  </tbody>\n",
       "</table>\n",
       "</div>"
      ],
      "text/plain": [
       "            Total Profit  Average Profit  Profit_per_User\n",
       "Company                                                  \n",
       "Pink Cab    5.307328e+06       62.652174         0.001375\n",
       "Yellow Cab  4.402037e+07      160.259986         0.001873"
      ]
     },
     "execution_count": 45,
     "metadata": {},
     "output_type": "execute_result"
    }
   ],
   "source": [
    "company_performance[\"Profit_per_User\"]=master_data.groupby(\"Company\")[\"Profit_per_User\"].mean()\n",
    "company_performance"
   ]
  },
  {
   "cell_type": "code",
   "execution_count": 46,
   "id": "b45cd134-c7ff-4f21-97d9-1da39de8c598",
   "metadata": {},
   "outputs": [
    {
     "data": {
      "text/html": [
       "<div>\n",
       "<style scoped>\n",
       "    .dataframe tbody tr th:only-of-type {\n",
       "        vertical-align: middle;\n",
       "    }\n",
       "\n",
       "    .dataframe tbody tr th {\n",
       "        vertical-align: top;\n",
       "    }\n",
       "\n",
       "    .dataframe thead th {\n",
       "        text-align: right;\n",
       "    }\n",
       "</style>\n",
       "<table border=\"1\" class=\"dataframe\">\n",
       "  <thead>\n",
       "    <tr style=\"text-align: right;\">\n",
       "      <th>Company</th>\n",
       "      <th>Pink Cab</th>\n",
       "      <th>Yellow Cab</th>\n",
       "    </tr>\n",
       "    <tr>\n",
       "      <th>City</th>\n",
       "      <th></th>\n",
       "      <th></th>\n",
       "    </tr>\n",
       "  </thead>\n",
       "  <tbody>\n",
       "    <tr>\n",
       "      <th>ATLANTA GA</th>\n",
       "      <td>96050.076</td>\n",
       "      <td>7.463828e+05</td>\n",
       "    </tr>\n",
       "    <tr>\n",
       "      <th>AUSTIN TX</th>\n",
       "      <td>147445.290</td>\n",
       "      <td>3.792557e+05</td>\n",
       "    </tr>\n",
       "    <tr>\n",
       "      <th>BOSTON MA</th>\n",
       "      <td>262001.698</td>\n",
       "      <td>1.506718e+06</td>\n",
       "    </tr>\n",
       "    <tr>\n",
       "      <th>CHICAGO IL</th>\n",
       "      <td>318722.488</td>\n",
       "      <td>3.068591e+06</td>\n",
       "    </tr>\n",
       "    <tr>\n",
       "      <th>DALLAS TX</th>\n",
       "      <td>24730.112</td>\n",
       "      <td>1.104003e+06</td>\n",
       "    </tr>\n",
       "  </tbody>\n",
       "</table>\n",
       "</div>"
      ],
      "text/plain": [
       "Company       Pink Cab    Yellow Cab\n",
       "City                                \n",
       "ATLANTA GA   96050.076  7.463828e+05\n",
       "AUSTIN TX   147445.290  3.792557e+05\n",
       "BOSTON MA   262001.698  1.506718e+06\n",
       "CHICAGO IL  318722.488  3.068591e+06\n",
       "DALLAS TX    24730.112  1.104003e+06"
      ]
     },
     "execution_count": 46,
     "metadata": {},
     "output_type": "execute_result"
    }
   ],
   "source": [
    "# Total profitability by city and company\n",
    "city_company_performance=master_data.groupby([\"City\",\"Company\"])[\"Profit\"].sum().unstack()\n",
    "city_company_performance.head()"
   ]
  },
  {
   "cell_type": "code",
   "execution_count": 55,
   "id": "d61e448b-cc2e-4ce9-98ae-94302e3d02f2",
   "metadata": {},
   "outputs": [
    {
     "data": {
      "image/png": "[encoded data removed]",
      "text/plain": [
       "<Figure size 1500x700 with 1 Axes>"
      ]
     },
     "metadata": {},
     "output_type": "display_data"
    }
   ],
   "source": [
    "# Visualization (Company performance by city)\n",
    "city_company_performance.plot(kind=\"bar\", stacked=True, figsize=(15, 7))\n",
    "plt.title(\"Total Profitability by City and Company\")\n",
    "plt.ylabel(\"Total Profit\")\n",
    "plt.xlabel(\"City\")\n",
    "plt.legend(title=\"Company\")\n",
    "plt.savefig(\"profit_by_city_and_company.png\", dpi=300, bbox_inches=\"tight\")\n",
    "plt.show()"
   ]
  },
  {
   "cell_type": "code",
   "execution_count": 48,
   "id": "538398c8-7c9f-4cd8-b8a5-37377bf5410b",
   "metadata": {},
   "outputs": [
    {
     "data": {
      "text/html": [
       "<div>\n",
       "<style scoped>\n",
       "    .dataframe tbody tr th:only-of-type {\n",
       "        vertical-align: middle;\n",
       "    }\n",
       "\n",
       "    .dataframe tbody tr th {\n",
       "        vertical-align: top;\n",
       "    }\n",
       "\n",
       "    .dataframe thead th {\n",
       "        text-align: right;\n",
       "    }\n",
       "</style>\n",
       "<table border=\"1\" class=\"dataframe\">\n",
       "  <thead>\n",
       "    <tr style=\"text-align: right;\">\n",
       "      <th></th>\n",
       "      <th>Total_Profit</th>\n",
       "      <th>Average_Profit</th>\n",
       "      <th>Profit_per_User</th>\n",
       "    </tr>\n",
       "    <tr>\n",
       "      <th>Company</th>\n",
       "      <th></th>\n",
       "      <th></th>\n",
       "      <th></th>\n",
       "    </tr>\n",
       "  </thead>\n",
       "  <tbody>\n",
       "    <tr>\n",
       "      <th>Pink Cab</th>\n",
       "      <td>5.307328e+06</td>\n",
       "      <td>62.652174</td>\n",
       "      <td>0.001375</td>\n",
       "    </tr>\n",
       "    <tr>\n",
       "      <th>Yellow Cab</th>\n",
       "      <td>4.402037e+07</td>\n",
       "      <td>160.259986</td>\n",
       "      <td>0.001873</td>\n",
       "    </tr>\n",
       "  </tbody>\n",
       "</table>\n",
       "</div>"
      ],
      "text/plain": [
       "            Total_Profit  Average_Profit  Profit_per_User\n",
       "Company                                                  \n",
       "Pink Cab    5.307328e+06       62.652174         0.001375\n",
       "Yellow Cab  4.402037e+07      160.259986         0.001873"
      ]
     },
     "execution_count": 48,
     "metadata": {},
     "output_type": "execute_result"
    }
   ],
   "source": [
    "# We summarize company-based performance\n",
    "company_summary=master_data.groupby(\"Company\").agg(Total_Profit=(\"Profit\",\"sum\"),\n",
    "                                                  Average_Profit=(\"Profit\",\"mean\"),\n",
    "                                                  Profit_per_User=(\"Profit_per_User\",\"mean\"))\n",
    "company_summary"
   ]
  },
  {
   "cell_type": "code",
   "execution_count": 50,
   "id": "5f111af5-e2be-461e-b23a-3e55dd87c3d7",
   "metadata": {},
   "outputs": [
    {
     "data": {
      "text/plain": [
       "<Figure size 640x480 with 0 Axes>"
      ]
     },
     "metadata": {},
     "output_type": "display_data"
    }
   ],
   "source": [
    "plt.savefig(\"Total Profitability by Company.png\", dpi=300, bbox_inches=\"tight\")"
   ]
  },
  {
   "cell_type": "code",
   "execution_count": null,
   "id": "b7a4cf2f-0e56-4fa0-9a3b-b37351414963",
   "metadata": {},
   "outputs": [],
   "source": []
  }
 ],
 "metadata": {
  "kernelspec": {
   "display_name": "Python 3 (ipykernel)",
   "language": "python",
   "name": "python3"
  },
  "language_info": {
   "codemirror_mode": {
    "name": "ipython",
    "version": 3
   },
   "file_extension": ".py",
   "mimetype": "text/x-python",
   "name": "python",
   "nbconvert_exporter": "python",
   "pygments_lexer": "ipython3",
   "version": "3.10.9"
  }
 },
 "nbformat": 4,
 "nbformat_minor": 5
}
